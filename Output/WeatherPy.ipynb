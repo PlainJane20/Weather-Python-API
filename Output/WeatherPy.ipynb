{
 "cells": [
  {
   "cell_type": "markdown",
   "metadata": {},
   "source": [
    "# WeatherPy\n",
    "----\n",
    "\n",
    "#### Note\n",
    "* Instructions have been included for each segment. You do not have to follow them exactly, but they are included to help you think through the steps.\n",
    "\n",
    "#### Observation\n",
    "* The weather becomes significantly warmer as one approaches the equator (0 Deg. Latitude). \n",
    "* The southern hemisphere tends to be warmer this time of year than the northern hemisphere. \n",
    "* There is no strong relationship between latitude and cloudiness. \n",
    "* There is no strong relationship between latitude and wind speed.\n",
    "* There is a flurry of cities with over 20 mph of wind in northern hemishere. "
   ]
  },
  {
   "cell_type": "code",
   "execution_count": 1,
   "metadata": {
    "scrolled": true
   },
   "outputs": [],
   "source": [
    "# Dependencies and Setup\n",
    "import matplotlib.pyplot as plt\n",
    "import scipy.stats as st\n",
    "import pandas as pd\n",
    "import numpy as np\n",
    "import requests\n",
    "import time\n",
    "import json\n",
    "import seaborn as sn\n",
    "\n",
    "from scipy.stats import linregress\n",
    "\n",
    "# Import API key\n",
    "from api_keys import weather_api_key\n",
    "temp_units = \"Imperial\"\n",
    "\n",
    "# Incorporated citipy to determine city based on latitude and longitude\n",
    "from citipy import citipy\n",
    "\n",
    "# Output File (CSV)\n",
    "output_data_file = \"output_data/cities.csv\"\n",
    "\n",
    "# Range of latitudes and longitudes\n",
    "lat_range = (-90, 90)\n",
    "lng_range = (-180, 180)\n",
    "\n",
    "query_url = f\"http://api.openweathermap.org/data/2.5/weather?appid={weather_api_key}&units={temp_units}&q=\"\n",
    "count_one = 0\n",
    "set_one = 1"
   ]
  },
  {
   "cell_type": "markdown",
   "metadata": {},
   "source": [
    "## Generate Cities List"
   ]
  },
  {
   "cell_type": "code",
   "execution_count": 2,
   "metadata": {},
   "outputs": [
    {
     "data": {
      "text/plain": [
       "621"
      ]
     },
     "execution_count": 2,
     "metadata": {},
     "output_type": "execute_result"
    }
   ],
   "source": [
    "# List for holding lat_lngs and cities\n",
    "lat_lngs = []\n",
    "cities = []\n",
    "\n",
    "# Create a set of random lat and lng combinations\n",
    "lats = np.random.uniform(lat_range[0], lat_range[1], size=1500)\n",
    "lngs = np.random.uniform(lng_range[0], lng_range[1], size=1500)\n",
    "lat_lngs = zip(lats, lngs)\n",
    "\n",
    "# Identify nearest city for each lat, lng combination\n",
    "for lat_lng in lat_lngs:\n",
    "    city = citipy.nearest_city(lat_lng[0], lat_lng[1]).city_name\n",
    "    \n",
    "# If the city is unique, then add it to a our cities list\n",
    "    if city not in cities:\n",
    "        cities.append(city)\n",
    "\n",
    "# Print the city count to confirm sufficient count\n",
    "len(cities)"
   ]
  },
  {
   "cell_type": "markdown",
   "metadata": {},
   "source": [
    "##  Perform API Calls\n",
    "* Perform a weather check on each city using a series of successive API calls.\n",
    "* Include a print log of each city as it'sbeing processed (with the city number and city name).\n"
   ]
  },
  {
   "cell_type": "code",
   "execution_count": 3,
   "metadata": {
    "scrolled": true
   },
   "outputs": [
    {
     "name": "stdout",
     "output_type": "stream",
     "text": [
      "Beginning Data Retrieval\n",
      "-----------------------------\n",
      "\n",
      "Processing Record 1 of Set 1 | punta arenas\n",
      "Processing Record 2 of Set 1 | kapaa\n",
      "Processing Record 3 of Set 1 | muroto\n",
      "Processing Record 4 of Set 1 | luderitz\n",
      "Processing Record 5 of Set 1 | nikolskoye\n",
      "Processing Record 6 of Set 1 | adrar\n",
      "Processing Record 7 of Set 1 | amahai\n",
      "Processing Record 8 of Set 1 | esperance\n",
      "Processing Record 9 of Set 1 | acapulco\n",
      "City not found. Skipping...\n",
      "Processing Record 10 of Set 1 | lebu\n",
      "Processing Record 11 of Set 1 | sao joao da barra\n",
      "Processing Record 12 of Set 1 | qaanaaq\n",
      "Processing Record 13 of Set 1 | nanortalik\n",
      "Processing Record 14 of Set 1 | hobart\n",
      "Processing Record 15 of Set 1 | hithadhoo\n",
      "Processing Record 16 of Set 1 | iqaluit\n",
      "Processing Record 17 of Set 1 | mumford\n",
      "Processing Record 18 of Set 1 | cherskiy\n",
      "Processing Record 19 of Set 1 | vaini\n",
      "Processing Record 20 of Set 1 | jamestown\n",
      "Processing Record 21 of Set 1 | leh\n",
      "Processing Record 22 of Set 1 | totness\n",
      "Processing Record 23 of Set 1 | rikitea\n",
      "Processing Record 24 of Set 1 | ayan\n",
      "Processing Record 25 of Set 1 | faanui\n",
      "Processing Record 26 of Set 1 | kisanga\n",
      "Processing Record 27 of Set 1 | atuona\n",
      "Processing Record 28 of Set 1 | hasaki\n",
      "Processing Record 29 of Set 1 | mar del plata\n",
      "City not found. Skipping...\n",
      "City not found. Skipping...\n",
      "Processing Record 30 of Set 1 | manhattan\n",
      "Processing Record 31 of Set 1 | nelson bay\n",
      "Processing Record 32 of Set 1 | mataura\n",
      "Processing Record 33 of Set 1 | khatanga\n",
      "Processing Record 34 of Set 1 | mabaruma\n",
      "Processing Record 35 of Set 1 | ende\n",
      "Processing Record 36 of Set 1 | guangyuan\n",
      "Processing Record 37 of Set 1 | berezovyy\n",
      "Processing Record 38 of Set 1 | albany\n",
      "Processing Record 39 of Set 1 | khandyga\n",
      "Processing Record 40 of Set 1 | castro\n",
      "Processing Record 41 of Set 1 | lexington\n",
      "Processing Record 42 of Set 1 | bluff\n",
      "Processing Record 43 of Set 1 | ribeira grande\n",
      "City not found. Skipping...\n",
      "Processing Record 44 of Set 1 | bengkulu\n",
      "Processing Record 45 of Set 1 | aloleng\n",
      "City not found. Skipping...\n",
      "Processing Record 46 of Set 1 | hilo\n",
      "Processing Record 47 of Set 1 | tuatapere\n",
      "Processing Record 48 of Set 1 | ushuaia\n",
      "Processing Record 49 of Set 1 | altay\n",
      "Processing Record 1 of Set 2 | bredasdorp\n",
      "Processing Record 2 of Set 2 | andenes\n",
      "Processing Record 3 of Set 2 | fort nelson\n",
      "City not found. Skipping...\n",
      "Processing Record 4 of Set 2 | hounde\n",
      "City not found. Skipping...\n",
      "City not found. Skipping...\n",
      "Processing Record 5 of Set 2 | victoria\n",
      "Processing Record 6 of Set 2 | kloulklubed\n",
      "Processing Record 7 of Set 2 | arraial do cabo\n",
      "Processing Record 8 of Set 2 | sartell\n",
      "Processing Record 9 of Set 2 | kavieng\n",
      "Processing Record 10 of Set 2 | tupik\n",
      "Processing Record 11 of Set 2 | abeche\n",
      "Processing Record 12 of Set 2 | lokoja\n",
      "Processing Record 13 of Set 2 | cabo san lucas\n",
      "Processing Record 14 of Set 2 | roma\n",
      "City not found. Skipping...\n",
      "Processing Record 15 of Set 2 | sirur\n",
      "Processing Record 16 of Set 2 | busselton\n",
      "Processing Record 17 of Set 2 | monroe\n",
      "Processing Record 18 of Set 2 | cabedelo\n",
      "City not found. Skipping...\n",
      "Processing Record 19 of Set 2 | pisco\n",
      "Processing Record 20 of Set 2 | bourail\n",
      "Processing Record 21 of Set 2 | hofn\n",
      "Processing Record 22 of Set 2 | beloha\n",
      "City not found. Skipping...\n",
      "Processing Record 23 of Set 2 | faya\n",
      "City not found. Skipping...\n",
      "Processing Record 24 of Set 2 | cape town\n",
      "Processing Record 25 of Set 2 | nuuk\n",
      "Processing Record 26 of Set 2 | tuktoyaktuk\n",
      "Processing Record 27 of Set 2 | new norfolk\n",
      "Processing Record 28 of Set 2 | dongzhen\n",
      "Processing Record 29 of Set 2 | bairiki\n",
      "Processing Record 30 of Set 2 | lyuban\n",
      "Processing Record 31 of Set 2 | puerto ayora\n",
      "Processing Record 32 of Set 2 | harper\n",
      "Processing Record 33 of Set 2 | hermanus\n",
      "Processing Record 34 of Set 2 | tabas\n",
      "City not found. Skipping...\n",
      "Processing Record 35 of Set 2 | acatenango\n",
      "Processing Record 36 of Set 2 | grenville\n",
      "Processing Record 37 of Set 2 | urumqi\n",
      "Processing Record 38 of Set 2 | kutum\n",
      "City not found. Skipping...\n",
      "Processing Record 39 of Set 2 | celestun\n",
      "Processing Record 40 of Set 2 | tura\n",
      "Processing Record 41 of Set 2 | dingle\n",
      "Processing Record 42 of Set 2 | hambantota\n",
      "Processing Record 43 of Set 2 | mys shmidta\n",
      "Processing Record 44 of Set 2 | comodoro rivadavia\n",
      "Processing Record 45 of Set 2 | saint-philippe\n",
      "Processing Record 46 of Set 2 | yar-sale\n",
      "Processing Record 47 of Set 2 | sao filipe\n",
      "Processing Record 48 of Set 2 | touros\n",
      "Processing Record 49 of Set 2 | grindavik\n",
      "Processing Record 1 of Set 3 | avarua\n",
      "Processing Record 2 of Set 3 | huarmey\n",
      "Processing Record 3 of Set 3 | kununurra\n",
      "Processing Record 4 of Set 3 | longyearbyen\n",
      "Processing Record 5 of Set 3 | santa rosa\n",
      "Processing Record 6 of Set 3 | bethel\n",
      "Processing Record 7 of Set 3 | kruisfontein\n",
      "Processing Record 8 of Set 3 | bandarbeyla\n",
      "Processing Record 9 of Set 3 | port elizabeth\n",
      "Processing Record 10 of Set 3 | narsaq\n",
      "Processing Record 11 of Set 3 | goderich\n",
      "Processing Record 12 of Set 3 | altagracia de orituco\n",
      "Processing Record 13 of Set 3 | markova\n",
      "Processing Record 14 of Set 3 | tsabong\n",
      "Processing Record 15 of Set 3 | clyde river\n",
      "Processing Record 16 of Set 3 | norman wells\n",
      "Processing Record 17 of Set 3 | baykit\n",
      "Processing Record 18 of Set 3 | andilamena\n",
      "City not found. Skipping...\n",
      "Processing Record 19 of Set 3 | olafsvik\n",
      "Processing Record 20 of Set 3 | pangai\n",
      "Processing Record 21 of Set 3 | amarante do maranhao\n",
      "Processing Record 22 of Set 3 | butaritari\n",
      "Processing Record 23 of Set 3 | mahebourg\n",
      "Processing Record 24 of Set 3 | tsivilsk\n",
      "Processing Record 25 of Set 3 | bud\n",
      "Processing Record 26 of Set 3 | lykhivka\n",
      "Processing Record 27 of Set 3 | aksu\n",
      "Processing Record 28 of Set 3 | marsh harbour\n",
      "Processing Record 29 of Set 3 | khromtau\n",
      "Processing Record 30 of Set 3 | bambous virieux\n",
      "Processing Record 31 of Set 3 | grand river south east\n",
      "Processing Record 32 of Set 3 | kaohsiung\n",
      "Processing Record 33 of Set 3 | kenitra\n",
      "Processing Record 34 of Set 3 | yellowknife\n",
      "Processing Record 35 of Set 3 | ketchikan\n",
      "Processing Record 36 of Set 3 | dwarahat\n",
      "City not found. Skipping...\n",
      "Processing Record 37 of Set 3 | port blair\n",
      "Processing Record 38 of Set 3 | san patricio\n",
      "Processing Record 39 of Set 3 | mahon\n",
      "Processing Record 40 of Set 3 | carnarvon\n",
      "Processing Record 41 of Set 3 | port alfred\n",
      "Processing Record 42 of Set 3 | kodiak\n",
      "Processing Record 43 of Set 3 | meulaboh\n",
      "Processing Record 44 of Set 3 | salalah\n",
      "Processing Record 45 of Set 3 | souillac\n",
      "Processing Record 46 of Set 3 | aykhal\n",
      "Processing Record 47 of Set 3 | jizan\n",
      "Processing Record 48 of Set 3 | tarko-sale\n",
      "Processing Record 49 of Set 3 | flinders\n",
      "Processing Record 1 of Set 4 | eslov\n",
      "Processing Record 2 of Set 4 | kousseri\n",
      "Processing Record 3 of Set 4 | georgetown\n",
      "Processing Record 4 of Set 4 | anadyr\n",
      "Processing Record 5 of Set 4 | fortuna foothills\n",
      "Processing Record 6 of Set 4 | kurchum\n",
      "Processing Record 7 of Set 4 | brownwood\n",
      "Processing Record 8 of Set 4 | airai\n",
      "Processing Record 9 of Set 4 | barrow\n",
      "Processing Record 10 of Set 4 | westport\n",
      "Processing Record 11 of Set 4 | itarema\n",
      "Processing Record 12 of Set 4 | kilgore\n",
      "Processing Record 13 of Set 4 | maloy\n",
      "Processing Record 14 of Set 4 | barmer\n",
      "City not found. Skipping...\n",
      "Processing Record 15 of Set 4 | mountain home\n",
      "Processing Record 16 of Set 4 | haines junction\n",
      "City not found. Skipping...\n",
      "Processing Record 17 of Set 4 | upernavik\n",
      "Processing Record 18 of Set 4 | manokwari\n",
      "Processing Record 19 of Set 4 | aleksandrov gay\n",
      "Processing Record 20 of Set 4 | union\n",
      "Processing Record 21 of Set 4 | kunming\n",
      "Processing Record 22 of Set 4 | tiksi\n",
      "Processing Record 23 of Set 4 | nemuro\n",
      "Processing Record 24 of Set 4 | black river\n",
      "Processing Record 25 of Set 4 | axim\n",
      "Processing Record 26 of Set 4 | atar\n",
      "Processing Record 27 of Set 4 | amarante\n",
      "City not found. Skipping...\n",
      "Processing Record 28 of Set 4 | tomatlan\n",
      "Processing Record 29 of Set 4 | biltine\n",
      "Processing Record 30 of Set 4 | bonnyville\n",
      "City not found. Skipping...\n",
      "Processing Record 31 of Set 4 | guerrero negro\n",
      "City not found. Skipping...\n",
      "Processing Record 32 of Set 4 | lorengau\n",
      "Processing Record 33 of Set 4 | constitucion\n",
      "Processing Record 34 of Set 4 | saskylakh\n",
      "Processing Record 35 of Set 4 | nidadavole\n",
      "Processing Record 36 of Set 4 | curup\n",
      "City not found. Skipping...\n"
     ]
    },
    {
     "name": "stdout",
     "output_type": "stream",
     "text": [
      "Processing Record 37 of Set 4 | klaksvik\n",
      "Processing Record 38 of Set 4 | watsa\n",
      "Processing Record 39 of Set 4 | marsaxlokk\n",
      "Processing Record 40 of Set 4 | yulara\n",
      "Processing Record 41 of Set 4 | lucapa\n",
      "Processing Record 42 of Set 4 | san rafael\n",
      "Processing Record 43 of Set 4 | muli\n",
      "Processing Record 44 of Set 4 | paracuru\n",
      "City not found. Skipping...\n",
      "Processing Record 45 of Set 4 | alyangula\n",
      "Processing Record 46 of Set 4 | dakar\n",
      "Processing Record 47 of Set 4 | lompoc\n",
      "Processing Record 48 of Set 4 | ilulissat\n",
      "Processing Record 49 of Set 4 | aksarka\n",
      "Processing Record 1 of Set 5 | coquimbo\n",
      "Processing Record 2 of Set 5 | darhan\n",
      "Processing Record 3 of Set 5 | ovsyanka\n",
      "Processing Record 4 of Set 5 | phalaborwa\n",
      "Processing Record 5 of Set 5 | yara\n",
      "Processing Record 6 of Set 5 | vite\n",
      "Processing Record 7 of Set 5 | alamos\n",
      "Processing Record 8 of Set 5 | pointe-noire\n",
      "Processing Record 9 of Set 5 | ahipara\n",
      "Processing Record 10 of Set 5 | ponorogo\n",
      "Processing Record 11 of Set 5 | havre\n",
      "Processing Record 12 of Set 5 | tenenkou\n",
      "Processing Record 13 of Set 5 | kashi\n",
      "Processing Record 14 of Set 5 | petropavlovsk-kamchatskiy\n",
      "Processing Record 15 of Set 5 | hobyo\n",
      "Processing Record 16 of Set 5 | tasiilaq\n",
      "Processing Record 17 of Set 5 | grand gaube\n",
      "Processing Record 18 of Set 5 | oranjemund\n",
      "Processing Record 19 of Set 5 | christchurch\n",
      "City not found. Skipping...\n",
      "Processing Record 20 of Set 5 | mount isa\n",
      "Processing Record 21 of Set 5 | vila franca do campo\n",
      "Processing Record 22 of Set 5 | omboue\n",
      "City not found. Skipping...\n",
      "Processing Record 23 of Set 5 | itaqui\n",
      "Processing Record 24 of Set 5 | krasnoselkup\n",
      "Processing Record 25 of Set 5 | taltal\n",
      "Processing Record 26 of Set 5 | severo-kurilsk\n",
      "Processing Record 27 of Set 5 | tazovskiy\n",
      "Processing Record 28 of Set 5 | vardo\n",
      "Processing Record 29 of Set 5 | deputatskiy\n",
      "Processing Record 30 of Set 5 | port hardy\n",
      "City not found. Skipping...\n",
      "Processing Record 31 of Set 5 | lagoa\n",
      "Processing Record 32 of Set 5 | taunggyi\n",
      "Processing Record 33 of Set 5 | dauriya\n",
      "Processing Record 34 of Set 5 | qaqortoq\n",
      "Processing Record 35 of Set 5 | bathsheba\n",
      "Processing Record 36 of Set 5 | ayaviri\n",
      "Processing Record 37 of Set 5 | coahuayana\n",
      "Processing Record 38 of Set 5 | mogzon\n",
      "Processing Record 39 of Set 5 | ternate\n",
      "Processing Record 40 of Set 5 | poum\n",
      "Processing Record 41 of Set 5 | malchin\n",
      "Processing Record 42 of Set 5 | ixtapa\n",
      "Processing Record 43 of Set 5 | byron bay\n",
      "Processing Record 44 of Set 5 | half moon bay\n",
      "Processing Record 45 of Set 5 | abu zabad\n",
      "Processing Record 46 of Set 5 | cham\n",
      "City not found. Skipping...\n",
      "Processing Record 47 of Set 5 | college\n",
      "Processing Record 48 of Set 5 | vallenar\n",
      "Processing Record 49 of Set 5 | verkhnyaya toyma\n",
      "Processing Record 1 of Set 6 | karratha\n",
      "Processing Record 2 of Set 6 | obo\n",
      "City not found. Skipping...\n",
      "Processing Record 3 of Set 6 | kawalu\n",
      "Processing Record 4 of Set 6 | bajo baudo\n",
      "Processing Record 5 of Set 6 | laredo\n",
      "Processing Record 6 of Set 6 | buraydah\n",
      "Processing Record 7 of Set 6 | thompson\n",
      "Processing Record 8 of Set 6 | raudeberg\n",
      "Processing Record 9 of Set 6 | banda aceh\n",
      "Processing Record 10 of Set 6 | ewa beach\n",
      "City not found. Skipping...\n",
      "Processing Record 11 of Set 6 | malpe\n",
      "Processing Record 12 of Set 6 | palu\n",
      "Processing Record 13 of Set 6 | san pedro\n",
      "Processing Record 14 of Set 6 | moindou\n",
      "Processing Record 15 of Set 6 | salta\n",
      "Processing Record 16 of Set 6 | iquique\n",
      "Processing Record 17 of Set 6 | sibsagar\n",
      "Processing Record 18 of Set 6 | chokurdakh\n",
      "Processing Record 19 of Set 6 | talnakh\n",
      "Processing Record 20 of Set 6 | vostok\n",
      "City not found. Skipping...\n",
      "Processing Record 21 of Set 6 | montepuez\n",
      "City not found. Skipping...\n",
      "Processing Record 22 of Set 6 | nagua\n",
      "Processing Record 23 of Set 6 | alice springs\n",
      "Processing Record 24 of Set 6 | kaitangata\n",
      "Processing Record 25 of Set 6 | bubaque\n",
      "Processing Record 26 of Set 6 | sakakah\n",
      "Processing Record 27 of Set 6 | yarmouth\n",
      "Processing Record 28 of Set 6 | plyussa\n",
      "Processing Record 29 of Set 6 | xinqing\n",
      "Processing Record 30 of Set 6 | wainwright\n",
      "City not found. Skipping...\n",
      "Processing Record 31 of Set 6 | talaya\n",
      "Processing Record 32 of Set 6 | tucuma\n",
      "Processing Record 33 of Set 6 | katangli\n",
      "Processing Record 34 of Set 6 | cidreira\n",
      "Processing Record 35 of Set 6 | margate\n",
      "Processing Record 36 of Set 6 | tubuala\n",
      "Processing Record 37 of Set 6 | broome\n",
      "Processing Record 38 of Set 6 | krasnozerskoye\n",
      "Processing Record 39 of Set 6 | portland\n",
      "Processing Record 40 of Set 6 | marawi\n",
      "Processing Record 41 of Set 6 | qorveh\n",
      "Processing Record 42 of Set 6 | jaca\n",
      "Processing Record 43 of Set 6 | erzin\n",
      "Processing Record 44 of Set 6 | shimoda\n",
      "Processing Record 45 of Set 6 | nalut\n",
      "Processing Record 46 of Set 6 | egvekinot\n",
      "Processing Record 47 of Set 6 | jati\n",
      "City not found. Skipping...\n",
      "Processing Record 48 of Set 6 | flin flon\n",
      "Processing Record 49 of Set 6 | kaka\n",
      "Processing Record 1 of Set 7 | kargopol\n",
      "Processing Record 2 of Set 7 | makhinjauri\n",
      "Processing Record 3 of Set 7 | sayyan\n",
      "Processing Record 4 of Set 7 | wlodawa\n",
      "Processing Record 5 of Set 7 | sitka\n",
      "Processing Record 6 of Set 7 | beringovskiy\n",
      "Processing Record 7 of Set 7 | dukat\n",
      "City not found. Skipping...\n",
      "Processing Record 8 of Set 7 | shu\n",
      "Processing Record 9 of Set 7 | saint-augustin\n",
      "City not found. Skipping...\n",
      "Processing Record 10 of Set 7 | borgosesia\n",
      "City not found. Skipping...\n",
      "Processing Record 11 of Set 7 | mount gambier\n",
      "Processing Record 12 of Set 7 | lasa\n",
      "Processing Record 13 of Set 7 | oktyabrskoye\n",
      "Processing Record 14 of Set 7 | jacareacanga\n",
      "Processing Record 15 of Set 7 | eatonton\n",
      "Processing Record 16 of Set 7 | laguna\n",
      "Processing Record 17 of Set 7 | kysyl-syr\n",
      "Processing Record 18 of Set 7 | viedma\n",
      "Processing Record 19 of Set 7 | san quintin\n",
      "Processing Record 20 of Set 7 | mizdah\n",
      "City not found. Skipping...\n",
      "City not found. Skipping...\n",
      "City not found. Skipping...\n",
      "Processing Record 21 of Set 7 | pavlogradka\n",
      "Processing Record 22 of Set 7 | solano\n",
      "Processing Record 23 of Set 7 | mangan\n",
      "Processing Record 24 of Set 7 | podgornoye\n",
      "Processing Record 25 of Set 7 | samarai\n",
      "Processing Record 26 of Set 7 | pacific grove\n",
      "Processing Record 27 of Set 7 | pevek\n",
      "Processing Record 28 of Set 7 | parambu\n",
      "Processing Record 29 of Set 7 | narathiwat\n",
      "Processing Record 30 of Set 7 | vestmannaeyjar\n",
      "Processing Record 31 of Set 7 | marmaris\n",
      "Processing Record 32 of Set 7 | kavaratti\n",
      "Processing Record 33 of Set 7 | cauquenes\n",
      "Processing Record 34 of Set 7 | bay roberts\n",
      "Processing Record 35 of Set 7 | quechultenango\n",
      "Processing Record 36 of Set 7 | bilibino\n",
      "Processing Record 37 of Set 7 | kuytun\n",
      "Processing Record 38 of Set 7 | natal\n",
      "City not found. Skipping...\n",
      "Processing Record 39 of Set 7 | barranca\n",
      "Processing Record 40 of Set 7 | ancud\n",
      "Processing Record 41 of Set 7 | mamallapuram\n",
      "Processing Record 42 of Set 7 | roebourne\n",
      "Processing Record 43 of Set 7 | vuktyl\n",
      "Processing Record 44 of Set 7 | kushiro\n",
      "Processing Record 45 of Set 7 | waddan\n",
      "Processing Record 46 of Set 7 | charters towers\n",
      "Processing Record 47 of Set 7 | karachi\n",
      "Processing Record 48 of Set 7 | khetri\n",
      "Processing Record 49 of Set 7 | provideniya\n",
      "Processing Record 1 of Set 8 | coihaique\n",
      "Processing Record 2 of Set 8 | cantagalo\n",
      "Processing Record 3 of Set 8 | tripoli\n",
      "Processing Record 4 of Set 8 | haileybury\n",
      "City not found. Skipping...\n",
      "Processing Record 5 of Set 8 | hami\n",
      "Processing Record 6 of Set 8 | yuzhno-sukhokumsk\n",
      "Processing Record 7 of Set 8 | sola\n",
      "Processing Record 8 of Set 8 | leningradskiy\n",
      "City not found. Skipping...\n",
      "Processing Record 9 of Set 8 | okhotsk\n",
      "Processing Record 10 of Set 8 | canutama\n",
      "Processing Record 11 of Set 8 | agadez\n",
      "Processing Record 12 of Set 8 | wanning\n",
      "Processing Record 13 of Set 8 | lithgow\n",
      "Processing Record 14 of Set 8 | niltepec\n",
      "Processing Record 15 of Set 8 | semnan\n",
      "Processing Record 16 of Set 8 | weyburn\n",
      "Processing Record 17 of Set 8 | ponta do sol\n",
      "Processing Record 18 of Set 8 | lesnoy\n",
      "Processing Record 19 of Set 8 | fortuna\n",
      "Processing Record 20 of Set 8 | key west\n",
      "Processing Record 21 of Set 8 | fare\n",
      "Processing Record 22 of Set 8 | tarakan\n",
      "Processing Record 23 of Set 8 | daru\n",
      "City not found. Skipping...\n",
      "Processing Record 24 of Set 8 | yaan\n",
      "Processing Record 25 of Set 8 | dikson\n",
      "Processing Record 26 of Set 8 | mutoko\n",
      "Processing Record 27 of Set 8 | rio grande\n"
     ]
    },
    {
     "name": "stdout",
     "output_type": "stream",
     "text": [
      "Processing Record 28 of Set 8 | aklavik\n",
      "Processing Record 29 of Set 8 | verkhnyaya inta\n",
      "Processing Record 30 of Set 8 | goya\n",
      "Processing Record 31 of Set 8 | iligan\n",
      "City not found. Skipping...\n",
      "Processing Record 32 of Set 8 | udachnyy\n",
      "Processing Record 33 of Set 8 | puerto narino\n",
      "Processing Record 34 of Set 8 | chuy\n",
      "Processing Record 35 of Set 8 | northam\n",
      "Processing Record 36 of Set 8 | balakhninskiy\n",
      "Processing Record 37 of Set 8 | noyabrsk\n",
      "Processing Record 38 of Set 8 | burlatskoye\n",
      "Processing Record 39 of Set 8 | madhupur\n",
      "Processing Record 40 of Set 8 | morgan city\n",
      "Processing Record 41 of Set 8 | soe\n",
      "Processing Record 42 of Set 8 | manzanillo\n",
      "Processing Record 43 of Set 8 | killorglin\n",
      "Processing Record 44 of Set 8 | darnah\n",
      "Processing Record 45 of Set 8 | pocone\n",
      "Processing Record 46 of Set 8 | kyren\n",
      "Processing Record 47 of Set 8 | ayr\n",
      "Processing Record 48 of Set 8 | camapua\n",
      "City not found. Skipping...\n",
      "City not found. Skipping...\n",
      "Processing Record 49 of Set 8 | romitan\n",
      "Processing Record 1 of Set 9 | gambo\n",
      "Processing Record 2 of Set 9 | geraldton\n",
      "Processing Record 3 of Set 9 | torbay\n",
      "Processing Record 4 of Set 9 | hovd\n",
      "Processing Record 5 of Set 9 | trincomalee\n",
      "Processing Record 6 of Set 9 | skjervoy\n",
      "Processing Record 7 of Set 9 | lavrentiya\n",
      "Processing Record 8 of Set 9 | tirumullaivasal\n",
      "Processing Record 9 of Set 9 | miguel auza\n",
      "Processing Record 10 of Set 9 | chabahar\n",
      "Processing Record 11 of Set 9 | mayo\n",
      "Processing Record 12 of Set 9 | santa\n",
      "Processing Record 13 of Set 9 | whitehorse\n",
      "City not found. Skipping...\n",
      "Processing Record 14 of Set 9 | katsuura\n",
      "Processing Record 15 of Set 9 | kusti\n",
      "Processing Record 16 of Set 9 | rosarito\n",
      "Processing Record 17 of Set 9 | shangrao\n",
      "Processing Record 18 of Set 9 | sur\n",
      "City not found. Skipping...\n",
      "Processing Record 19 of Set 9 | saldanha\n",
      "Processing Record 20 of Set 9 | cockburn town\n",
      "Processing Record 21 of Set 9 | uhlove\n",
      "Processing Record 22 of Set 9 | griffith\n",
      "Processing Record 23 of Set 9 | ippy\n",
      "Processing Record 24 of Set 9 | puerto colombia\n",
      "Processing Record 25 of Set 9 | vitorino freire\n",
      "Processing Record 26 of Set 9 | oktyabrskiy\n",
      "Processing Record 27 of Set 9 | kuching\n",
      "Processing Record 28 of Set 9 | nyurba\n",
      "Processing Record 29 of Set 9 | alofi\n",
      "Processing Record 30 of Set 9 | patiya\n",
      "Processing Record 31 of Set 9 | east london\n",
      "Processing Record 32 of Set 9 | necochea\n",
      "Processing Record 33 of Set 9 | porterville\n",
      "Processing Record 34 of Set 9 | kalevala\n",
      "City not found. Skipping...\n",
      "Processing Record 35 of Set 9 | verkhnetulomskiy\n",
      "Processing Record 36 of Set 9 | gravdal\n",
      "Processing Record 37 of Set 9 | tual\n",
      "Processing Record 38 of Set 9 | alta floresta\n",
      "Processing Record 39 of Set 9 | taybad\n",
      "City not found. Skipping...\n",
      "Processing Record 40 of Set 9 | zhumadian\n",
      "Processing Record 41 of Set 9 | marquette\n",
      "City not found. Skipping...\n",
      "Processing Record 42 of Set 9 | paamiut\n",
      "Processing Record 43 of Set 9 | pueblo\n",
      "Processing Record 44 of Set 9 | san policarpo\n",
      "Processing Record 45 of Set 9 | kochi\n",
      "Processing Record 46 of Set 9 | namatanai\n",
      "Processing Record 47 of Set 9 | cayenne\n",
      "Processing Record 48 of Set 9 | sydney\n",
      "Processing Record 49 of Set 9 | aktash\n",
      "Processing Record 1 of Set 10 | grand-santi\n",
      "Processing Record 2 of Set 10 | garden city\n",
      "Processing Record 3 of Set 10 | port lincoln\n",
      "City not found. Skipping...\n",
      "City not found. Skipping...\n",
      "Processing Record 4 of Set 10 | salinas\n",
      "City not found. Skipping...\n",
      "Processing Record 5 of Set 10 | zyryanka\n",
      "Processing Record 6 of Set 10 | prainha\n",
      "Processing Record 7 of Set 10 | healesville\n",
      "Processing Record 8 of Set 10 | stornoway\n",
      "Processing Record 9 of Set 10 | gyulagarak\n",
      "Processing Record 10 of Set 10 | yarada\n",
      "Processing Record 11 of Set 10 | punta alta\n",
      "Processing Record 12 of Set 10 | santa isabel do rio negro\n",
      "Processing Record 13 of Set 10 | galveston\n",
      "Processing Record 14 of Set 10 | sangar\n",
      "Processing Record 15 of Set 10 | ulaangom\n",
      "City not found. Skipping...\n",
      "Processing Record 16 of Set 10 | assiniboia\n",
      "Processing Record 17 of Set 10 | shingu\n",
      "Processing Record 18 of Set 10 | codrington\n",
      "City not found. Skipping...\n",
      "Processing Record 19 of Set 10 | berlevag\n",
      "Processing Record 20 of Set 10 | borovo\n",
      "Processing Record 21 of Set 10 | asau\n",
      "Processing Record 22 of Set 10 | magdagachi\n",
      "Processing Record 23 of Set 10 | shubarshi\n",
      "Processing Record 24 of Set 10 | naduvattam\n",
      "Processing Record 25 of Set 10 | hudiksvall\n",
      "Processing Record 26 of Set 10 | veraval\n",
      "Processing Record 27 of Set 10 | tocopilla\n",
      "Processing Record 28 of Set 10 | borogontsy\n",
      "Processing Record 29 of Set 10 | maroantsetra\n",
      "Processing Record 30 of Set 10 | xiongyue\n",
      "Processing Record 31 of Set 10 | tres lagoas\n",
      "Processing Record 32 of Set 10 | shenzhen\n",
      "Processing Record 33 of Set 10 | madimba\n",
      "Processing Record 34 of Set 10 | brokopondo\n",
      "Processing Record 35 of Set 10 | mezen\n",
      "Processing Record 36 of Set 10 | beauchamps\n",
      "Processing Record 37 of Set 10 | novoilinsk\n",
      "City not found. Skipping...\n",
      "Processing Record 38 of Set 10 | rundu\n",
      "Processing Record 39 of Set 10 | paptalaya\n",
      "Processing Record 40 of Set 10 | mendeleyevsk\n",
      "Processing Record 41 of Set 10 | svetlogorsk\n",
      "Processing Record 42 of Set 10 | ulladulla\n",
      "Processing Record 43 of Set 10 | yatou\n",
      "Processing Record 44 of Set 10 | solok\n",
      "Processing Record 45 of Set 10 | luena\n",
      "Processing Record 46 of Set 10 | belmonte\n",
      "Processing Record 47 of Set 10 | san ramon\n",
      "Processing Record 48 of Set 10 | thoubal\n",
      "Processing Record 49 of Set 10 | west monroe\n",
      "Processing Record 1 of Set 11 | disna\n",
      "Processing Record 2 of Set 11 | hamilton\n",
      "Processing Record 3 of Set 11 | canton\n",
      "Processing Record 4 of Set 11 | skibbereen\n",
      "Processing Record 5 of Set 11 | tazmalt\n",
      "Processing Record 6 of Set 11 | port augusta\n",
      "Processing Record 7 of Set 11 | muzhi\n",
      "Processing Record 8 of Set 11 | mirnyy\n",
      "Processing Record 9 of Set 11 | waipawa\n",
      "Processing Record 10 of Set 11 | solnechnyy\n",
      "Processing Record 11 of Set 11 | colon\n",
      "Processing Record 12 of Set 11 | sonoita\n",
      "Processing Record 13 of Set 11 | weinan\n",
      "City not found. Skipping...\n",
      "Processing Record 14 of Set 11 | vestmanna\n",
      "City not found. Skipping...\n",
      "Processing Record 15 of Set 11 | lubango\n",
      "Processing Record 16 of Set 11 | barra do corda\n",
      "Processing Record 17 of Set 11 | castlegar\n",
      "Processing Record 18 of Set 11 | san luis\n",
      "Processing Record 19 of Set 11 | marsa matruh\n",
      "Processing Record 20 of Set 11 | jalu\n",
      "Processing Record 21 of Set 11 | kapit\n",
      "Processing Record 22 of Set 11 | kurumkan\n",
      "Processing Record 23 of Set 11 | havre-saint-pierre\n",
      "Processing Record 24 of Set 11 | raga\n",
      "Processing Record 25 of Set 11 | puente nacional\n",
      "Processing Record 26 of Set 11 | carutapera\n",
      "Processing Record 27 of Set 11 | hay river\n",
      "Processing Record 28 of Set 11 | kilindoni\n",
      "Processing Record 29 of Set 11 | barra\n",
      "Processing Record 30 of Set 11 | kahului\n",
      "Processing Record 31 of Set 11 | yerbogachen\n",
      "Processing Record 32 of Set 11 | presidente epitacio\n",
      "Processing Record 33 of Set 11 | tignere\n",
      "Processing Record 34 of Set 11 | plettenberg bay\n",
      "Processing Record 35 of Set 11 | zastron\n",
      "Processing Record 36 of Set 11 | whitecourt\n",
      "Processing Record 37 of Set 11 | emba\n",
      "Processing Record 38 of Set 11 | venezuela\n",
      "Processing Record 39 of Set 11 | kusu\n",
      "City not found. Skipping...\n",
      "Processing Record 40 of Set 11 | thinadhoo\n",
      "Processing Record 41 of Set 11 | ryotsu\n",
      "Processing Record 42 of Set 11 | malakal\n",
      "Processing Record 43 of Set 11 | vao\n",
      "Processing Record 44 of Set 11 | komsomolets\n",
      "Processing Record 45 of Set 11 | yarkovo\n",
      "Processing Record 46 of Set 11 | gorgopi\n",
      "Processing Record 47 of Set 11 | mackenzie\n",
      "Processing Record 48 of Set 11 | telma\n",
      "Processing Record 49 of Set 11 | xichang\n",
      "Processing Record 1 of Set 12 | otofuke\n",
      "Processing Record 2 of Set 12 | barcelos\n",
      "Processing Record 3 of Set 12 | makakilo city\n",
      "City not found. Skipping...\n",
      "Processing Record 4 of Set 12 | negotin\n",
      "Processing Record 5 of Set 12 | craig\n",
      "Processing Record 6 of Set 12 | port-gentil\n",
      "City not found. Skipping...\n",
      "Processing Record 7 of Set 12 | sunrise manor\n",
      "Processing Record 8 of Set 12 | cassilandia\n",
      "Processing Record 9 of Set 12 | east foothills\n",
      "Processing Record 10 of Set 12 | pec\n",
      "Processing Record 11 of Set 12 | bonthe\n",
      "Processing Record 12 of Set 12 | nushki\n",
      "Processing Record 13 of Set 12 | midland\n",
      "Processing Record 14 of Set 12 | ninghai\n",
      "Processing Record 15 of Set 12 | amberley\n"
     ]
    },
    {
     "name": "stdout",
     "output_type": "stream",
     "text": [
      "Processing Record 16 of Set 12 | hualmay\n",
      "City not found. Skipping...\n",
      "Processing Record 17 of Set 12 | amherstburg\n",
      "Processing Record 18 of Set 12 | providencia\n",
      "Processing Record 19 of Set 12 | bowen\n",
      "------------------------------\n",
      "Data Retrieval Complete\n",
      "------------------------------\n"
     ]
    }
   ],
   "source": [
    "print(\"Beginning Data Retrieval\\n-----------------------------\\n\")\n",
    "\n",
    "city_two = []\n",
    "cloudinesses = []\n",
    "dates = []\n",
    "humidities = []\n",
    "lats = []\n",
    "lngs = []\n",
    "max_temps = []\n",
    "wind_speeds = []\n",
    "countries = []\n",
    "\n",
    "count_one = 0\n",
    "set_one = 1\n",
    "\n",
    "for city in cities:\n",
    "    try:\n",
    "        response = requests.get(query_url + city.replace(\" \",\"&\")).json()\n",
    "        cloudinesses.append(response['clouds']['all'])\n",
    "        countries.append(response['sys']['country'])\n",
    "        dates.append(response['dt'])\n",
    "        humidities.append(response['main']['humidity'])\n",
    "        lats.append(response['coord']['lat'])\n",
    "        lngs.append(response['coord']['lon'])\n",
    "        max_temps.append(response['main']['temp_max'])\n",
    "        wind_speeds.append(response['wind']['speed'])\n",
    "        if count_one > 48:\n",
    "            count_one = 1\n",
    "            set_one += 1\n",
    "            city_two.append(city)\n",
    "        else:\n",
    "            count_one += 1\n",
    "            city_two.append(city)\n",
    "        print(f\"Processing Record {count_one} of Set {set_one} | {city}\")\n",
    "    except Exception:\n",
    "        print(\"City not found. Skipping...\")\n",
    "        \n",
    "# loop will break if the city isnt in the weather map\n",
    "print(\"------------------------------\\nData Retrieval Complete\\n------------------------------\")"
   ]
  },
  {
   "cell_type": "markdown",
   "metadata": {},
   "source": [
    "### Convert Raw Data to DataFrame\n",
    "* Export the city data into a .csv.\n",
    "* Display the DataFrame"
   ]
  },
  {
   "cell_type": "code",
   "execution_count": 4,
   "metadata": {},
   "outputs": [
    {
     "data": {
      "text/html": [
       "<div>\n",
       "<style scoped>\n",
       "    .dataframe tbody tr th:only-of-type {\n",
       "        vertical-align: middle;\n",
       "    }\n",
       "\n",
       "    .dataframe tbody tr th {\n",
       "        vertical-align: top;\n",
       "    }\n",
       "\n",
       "    .dataframe thead th {\n",
       "        text-align: right;\n",
       "    }\n",
       "</style>\n",
       "<table border=\"1\" class=\"dataframe\">\n",
       "  <thead>\n",
       "    <tr style=\"text-align: right;\">\n",
       "      <th></th>\n",
       "      <th>City</th>\n",
       "      <th>Lat</th>\n",
       "      <th>Lng</th>\n",
       "      <th>Max Temp</th>\n",
       "      <th>Humidity</th>\n",
       "      <th>Cloudiness</th>\n",
       "      <th>Country</th>\n",
       "      <th>Wind Speed</th>\n",
       "      <th>Date</th>\n",
       "    </tr>\n",
       "  </thead>\n",
       "  <tbody>\n",
       "    <tr>\n",
       "      <th>0</th>\n",
       "      <td>punta arenas</td>\n",
       "      <td>8.99</td>\n",
       "      <td>125.34</td>\n",
       "      <td>83.64</td>\n",
       "      <td>79</td>\n",
       "      <td>11</td>\n",
       "      <td>PH</td>\n",
       "      <td>6.40</td>\n",
       "      <td>1606375343</td>\n",
       "    </tr>\n",
       "    <tr>\n",
       "      <th>1</th>\n",
       "      <td>kapaa</td>\n",
       "      <td>22.08</td>\n",
       "      <td>-159.32</td>\n",
       "      <td>75.20</td>\n",
       "      <td>94</td>\n",
       "      <td>75</td>\n",
       "      <td>US</td>\n",
       "      <td>9.17</td>\n",
       "      <td>1606375344</td>\n",
       "    </tr>\n",
       "    <tr>\n",
       "      <th>2</th>\n",
       "      <td>muroto</td>\n",
       "      <td>33.28</td>\n",
       "      <td>134.15</td>\n",
       "      <td>66.20</td>\n",
       "      <td>45</td>\n",
       "      <td>75</td>\n",
       "      <td>JP</td>\n",
       "      <td>5.82</td>\n",
       "      <td>1606375344</td>\n",
       "    </tr>\n",
       "    <tr>\n",
       "      <th>3</th>\n",
       "      <td>luderitz</td>\n",
       "      <td>-26.65</td>\n",
       "      <td>15.16</td>\n",
       "      <td>66.20</td>\n",
       "      <td>48</td>\n",
       "      <td>0</td>\n",
       "      <td>NA</td>\n",
       "      <td>17.22</td>\n",
       "      <td>1606375344</td>\n",
       "    </tr>\n",
       "    <tr>\n",
       "      <th>4</th>\n",
       "      <td>nikolskoye</td>\n",
       "      <td>59.70</td>\n",
       "      <td>30.79</td>\n",
       "      <td>42.01</td>\n",
       "      <td>93</td>\n",
       "      <td>75</td>\n",
       "      <td>RU</td>\n",
       "      <td>6.71</td>\n",
       "      <td>1606375345</td>\n",
       "    </tr>\n",
       "    <tr>\n",
       "      <th>5</th>\n",
       "      <td>adrar</td>\n",
       "      <td>20.50</td>\n",
       "      <td>-10.07</td>\n",
       "      <td>59.92</td>\n",
       "      <td>30</td>\n",
       "      <td>18</td>\n",
       "      <td>MR</td>\n",
       "      <td>4.18</td>\n",
       "      <td>1606375345</td>\n",
       "    </tr>\n",
       "    <tr>\n",
       "      <th>6</th>\n",
       "      <td>amahai</td>\n",
       "      <td>-3.33</td>\n",
       "      <td>128.92</td>\n",
       "      <td>85.17</td>\n",
       "      <td>72</td>\n",
       "      <td>100</td>\n",
       "      <td>ID</td>\n",
       "      <td>3.67</td>\n",
       "      <td>1606375345</td>\n",
       "    </tr>\n",
       "    <tr>\n",
       "      <th>7</th>\n",
       "      <td>esperance</td>\n",
       "      <td>-33.87</td>\n",
       "      <td>121.90</td>\n",
       "      <td>87.80</td>\n",
       "      <td>27</td>\n",
       "      <td>0</td>\n",
       "      <td>AU</td>\n",
       "      <td>9.17</td>\n",
       "      <td>1606375346</td>\n",
       "    </tr>\n",
       "    <tr>\n",
       "      <th>8</th>\n",
       "      <td>acapulco</td>\n",
       "      <td>16.86</td>\n",
       "      <td>-99.89</td>\n",
       "      <td>76.48</td>\n",
       "      <td>82</td>\n",
       "      <td>0</td>\n",
       "      <td>MX</td>\n",
       "      <td>3.44</td>\n",
       "      <td>1606375346</td>\n",
       "    </tr>\n",
       "    <tr>\n",
       "      <th>9</th>\n",
       "      <td>lebu</td>\n",
       "      <td>-37.62</td>\n",
       "      <td>-73.65</td>\n",
       "      <td>47.73</td>\n",
       "      <td>78</td>\n",
       "      <td>0</td>\n",
       "      <td>CL</td>\n",
       "      <td>15.03</td>\n",
       "      <td>1606375346</td>\n",
       "    </tr>\n",
       "  </tbody>\n",
       "</table>\n",
       "</div>"
      ],
      "text/plain": [
       "           City    Lat     Lng  Max Temp  Humidity  Cloudiness Country  \\\n",
       "0  punta arenas   8.99  125.34     83.64        79          11      PH   \n",
       "1         kapaa  22.08 -159.32     75.20        94          75      US   \n",
       "2        muroto  33.28  134.15     66.20        45          75      JP   \n",
       "3      luderitz -26.65   15.16     66.20        48           0      NA   \n",
       "4    nikolskoye  59.70   30.79     42.01        93          75      RU   \n",
       "5         adrar  20.50  -10.07     59.92        30          18      MR   \n",
       "6        amahai  -3.33  128.92     85.17        72         100      ID   \n",
       "7     esperance -33.87  121.90     87.80        27           0      AU   \n",
       "8      acapulco  16.86  -99.89     76.48        82           0      MX   \n",
       "9          lebu -37.62  -73.65     47.73        78           0      CL   \n",
       "\n",
       "   Wind Speed        Date  \n",
       "0        6.40  1606375343  \n",
       "1        9.17  1606375344  \n",
       "2        5.82  1606375344  \n",
       "3       17.22  1606375344  \n",
       "4        6.71  1606375345  \n",
       "5        4.18  1606375345  \n",
       "6        3.67  1606375345  \n",
       "7        9.17  1606375346  \n",
       "8        3.44  1606375346  \n",
       "9       15.03  1606375346  "
      ]
     },
     "execution_count": 4,
     "metadata": {},
     "output_type": "execute_result"
    }
   ],
   "source": [
    "weather_list = {\"City\":city_two,\n",
    "                \"Lat\":lats,\n",
    "                \"Lng\":lngs,\n",
    "                \"Max Temp\":max_temps,\n",
    "                \"Humidity\":humidities,\n",
    "                \"Cloudiness\":cloudinesses,\n",
    "                \"Country\":countries,\n",
    "                \"Wind Speed\":wind_speeds,\n",
    "                \"Date\":dates}\n",
    "weather_df = pd.DataFrame(weather_list)\n",
    "weather_df.head(10)"
   ]
  },
  {
   "cell_type": "code",
   "execution_count": 5,
   "metadata": {},
   "outputs": [
    {
     "data": {
      "text/plain": [
       "City          558\n",
       "Lat           558\n",
       "Lng           558\n",
       "Max Temp      558\n",
       "Humidity      558\n",
       "Cloudiness    558\n",
       "Country       558\n",
       "Wind Speed    558\n",
       "Date          558\n",
       "dtype: int64"
      ]
     },
     "execution_count": 5,
     "metadata": {},
     "output_type": "execute_result"
    }
   ],
   "source": [
    "weather_df.count()"
   ]
  },
  {
   "cell_type": "code",
   "execution_count": 6,
   "metadata": {},
   "outputs": [],
   "source": [
    "#weather_df.to_csv(\"..Data/cities_new.csv\")"
   ]
  },
  {
   "cell_type": "markdown",
   "metadata": {},
   "source": [
    "## Inspect the data and remove the cities where the humidity > 100%.\n",
    "----\n",
    "Skip this step if there are no cities that have humidity > 100%. "
   ]
  },
  {
   "cell_type": "code",
   "execution_count": 7,
   "metadata": {},
   "outputs": [
    {
     "data": {
      "text/html": [
       "<div>\n",
       "<style scoped>\n",
       "    .dataframe tbody tr th:only-of-type {\n",
       "        vertical-align: middle;\n",
       "    }\n",
       "\n",
       "    .dataframe tbody tr th {\n",
       "        vertical-align: top;\n",
       "    }\n",
       "\n",
       "    .dataframe thead th {\n",
       "        text-align: right;\n",
       "    }\n",
       "</style>\n",
       "<table border=\"1\" class=\"dataframe\">\n",
       "  <thead>\n",
       "    <tr style=\"text-align: right;\">\n",
       "      <th></th>\n",
       "      <th>City</th>\n",
       "      <th>Lat</th>\n",
       "      <th>Lng</th>\n",
       "      <th>Max Temp</th>\n",
       "      <th>Humidity</th>\n",
       "      <th>Cloudiness</th>\n",
       "      <th>Country</th>\n",
       "      <th>Wind Speed</th>\n",
       "      <th>Date</th>\n",
       "    </tr>\n",
       "  </thead>\n",
       "  <tbody>\n",
       "  </tbody>\n",
       "</table>\n",
       "</div>"
      ],
      "text/plain": [
       "Empty DataFrame\n",
       "Columns: [City, Lat, Lng, Max Temp, Humidity, Cloudiness, Country, Wind Speed, Date]\n",
       "Index: []"
      ]
     },
     "execution_count": 7,
     "metadata": {},
     "output_type": "execute_result"
    }
   ],
   "source": [
    "bad_humidity_df = weather_df[(weather_df['Humidity'] > 100)]\n",
    "bad_humidity_df.head(10)"
   ]
  },
  {
   "cell_type": "code",
   "execution_count": 8,
   "metadata": {},
   "outputs": [
    {
     "data": {
      "text/plain": [
       "Int64Index([], dtype='int64')"
      ]
     },
     "execution_count": 8,
     "metadata": {},
     "output_type": "execute_result"
    }
   ],
   "source": [
    "#  Get the indices of cities that have humidity over 100%.\n",
    "bad_humidity_df.index"
   ]
  },
  {
   "cell_type": "markdown",
   "metadata": {},
   "source": [
    "## Plotting the Data\n",
    "* Use proper labeling of the plots using plot titles (including date of analysis) and axes labels.\n",
    "* Save the plotted figures as .pngs."
   ]
  },
  {
   "cell_type": "markdown",
   "metadata": {},
   "source": [
    "## Latitude vs. Temperature Plot"
   ]
  },
  {
   "cell_type": "code",
   "execution_count": 9,
   "metadata": {
    "scrolled": true
   },
   "outputs": [
    {
     "data": {
      "image/png": "[encoded data removed]",
      "text/plain": [
       "<Figure size 432x288 with 1 Axes>"
      ]
     },
     "metadata": {
      "needs_background": "light"
     },
     "output_type": "display_data"
    }
   ],
   "source": [
    "plt.scatter(weather_df[\"Lat\"],weather_df[\"Max Temp\"],edgecolors=\"black\",facecolors=\"skyblue\")\n",
    "plt.title(\"City Latitude vs. Max Temperature (11/18/20)\")\n",
    "plt.xlabel(\"Latitude\")\n",
    "plt.ylabel(\"Max Temperature (F)\")\n",
    "plt.grid (b=True,which=\"major\",axis=\"both\",linestyle=\"-\",color=\"lightgrey\")\n",
    "plt.savefig (\"../Images/LatitudevsTemp.png\")\n",
    "plt.show()"
   ]
  },
  {
   "cell_type": "markdown",
   "metadata": {},
   "source": [
    "## Latitude vs. Humidity Plot"
   ]
  },
  {
   "cell_type": "code",
   "execution_count": 10,
   "metadata": {},
   "outputs": [
    {
     "data": {
      "image/png": "[encoded data removed]",
      "text/plain": [
       "<Figure size 432x288 with 1 Axes>"
      ]
     },
     "metadata": {
      "needs_background": "light"
     },
     "output_type": "display_data"
    }
   ],
   "source": [
    "plt.scatter(weather_df[\"Lat\"],weather_df[\"Humidity\"],edgecolors=\"black\",facecolors=\"skyblue\")\n",
    "plt.title(\"City Latitude vs. Humidity (11/18/20)\")\n",
    "plt.xlabel(\"Latitude\")\n",
    "plt.ylabel(\"Humidity (%)\")\n",
    "plt.ylim(15,105)\n",
    "plt.grid (b=True,which=\"major\",axis=\"both\",linestyle=\"-\",color=\"lightgrey\")\n",
    "plt.savefig (\"../Images/LatitudevsHumidity.png\")\n",
    "plt.show()"
   ]
  },
  {
   "cell_type": "markdown",
   "metadata": {},
   "source": [
    "## Latitude vs. Cloudiness Plot"
   ]
  },
  {
   "cell_type": "code",
   "execution_count": 11,
   "metadata": {},
   "outputs": [
    {
     "data": {
      "image/png": "[encoded data removed]",
      "text/plain": [
       "<Figure size 432x288 with 1 Axes>"
      ]
     },
     "metadata": {
      "needs_background": "light"
     },
     "output_type": "display_data"
    }
   ],
   "source": [
    "plt.scatter(weather_df[\"Lat\"],weather_df[\"Cloudiness\"],edgecolors=\"black\",facecolors=\"skyblue\")\n",
    "plt.title(\"City Latitude vs. Cloudiness (11/18/20)\")\n",
    "plt.xlabel(\"Latitude\")\n",
    "plt.ylabel(\"Cloudiness (%)\")\n",
    "plt.grid (b=True,which=\"major\",axis=\"both\",linestyle=\"-\",color=\"lightgrey\")\n",
    "plt.savefig (\"../Images/LatitudevsCloudiness.png\")\n",
    "plt.show()"
   ]
  },
  {
   "cell_type": "markdown",
   "metadata": {},
   "source": [
    "## Latitude vs. Wind Speed Plot"
   ]
  },
  {
   "cell_type": "code",
   "execution_count": 12,
   "metadata": {},
   "outputs": [
    {
     "data": {
      "image/png": "[encoded data removed]",
      "text/plain": [
       "<Figure size 432x288 with 1 Axes>"
      ]
     },
     "metadata": {
      "needs_background": "light"
     },
     "output_type": "display_data"
    }
   ],
   "source": [
    "plt.scatter(weather_df[\"Lat\"],weather_df[\"Wind Speed\"],edgecolors=\"black\",facecolors=\"skyblue\")\n",
    "plt.title(\"City Latitude vs. Wind Speed (11/18/20)\")\n",
    "plt.xlabel(\"Latitude\")\n",
    "plt.ylabel(\"Wind Speed (mph)\")\n",
    "plt.ylim(-2,34)\n",
    "plt.grid (b=True,which=\"major\",axis=\"both\",linestyle=\"-\",color=\"lightgrey\")\n",
    "plt.savefig (\"../Images/LatitudevsWindSpeed.png\")\n",
    "plt.show()"
   ]
  },
  {
   "cell_type": "markdown",
   "metadata": {},
   "source": [
    "## Linear Regression"
   ]
  },
  {
   "cell_type": "markdown",
   "metadata": {},
   "source": [
    "####  Northern Hemisphere - Max Temp vs. Latitude Linear Regression"
   ]
  },
  {
   "cell_type": "code",
   "execution_count": 13,
   "metadata": {},
   "outputs": [
    {
     "data": {
      "text/html": [
       "<div>\n",
       "<style scoped>\n",
       "    .dataframe tbody tr th:only-of-type {\n",
       "        vertical-align: middle;\n",
       "    }\n",
       "\n",
       "    .dataframe tbody tr th {\n",
       "        vertical-align: top;\n",
       "    }\n",
       "\n",
       "    .dataframe thead th {\n",
       "        text-align: right;\n",
       "    }\n",
       "</style>\n",
       "<table border=\"1\" class=\"dataframe\">\n",
       "  <thead>\n",
       "    <tr style=\"text-align: right;\">\n",
       "      <th></th>\n",
       "      <th>City</th>\n",
       "      <th>Lat</th>\n",
       "      <th>Lng</th>\n",
       "      <th>Max Temp</th>\n",
       "      <th>Humidity</th>\n",
       "      <th>Cloudiness</th>\n",
       "      <th>Country</th>\n",
       "      <th>Wind Speed</th>\n",
       "      <th>Date</th>\n",
       "    </tr>\n",
       "  </thead>\n",
       "  <tbody>\n",
       "    <tr>\n",
       "      <th>0</th>\n",
       "      <td>punta arenas</td>\n",
       "      <td>8.99</td>\n",
       "      <td>125.34</td>\n",
       "      <td>83.64</td>\n",
       "      <td>79</td>\n",
       "      <td>11</td>\n",
       "      <td>PH</td>\n",
       "      <td>6.40</td>\n",
       "      <td>1606375343</td>\n",
       "    </tr>\n",
       "    <tr>\n",
       "      <th>1</th>\n",
       "      <td>kapaa</td>\n",
       "      <td>22.08</td>\n",
       "      <td>-159.32</td>\n",
       "      <td>75.20</td>\n",
       "      <td>94</td>\n",
       "      <td>75</td>\n",
       "      <td>US</td>\n",
       "      <td>9.17</td>\n",
       "      <td>1606375344</td>\n",
       "    </tr>\n",
       "    <tr>\n",
       "      <th>2</th>\n",
       "      <td>muroto</td>\n",
       "      <td>33.28</td>\n",
       "      <td>134.15</td>\n",
       "      <td>66.20</td>\n",
       "      <td>45</td>\n",
       "      <td>75</td>\n",
       "      <td>JP</td>\n",
       "      <td>5.82</td>\n",
       "      <td>1606375344</td>\n",
       "    </tr>\n",
       "    <tr>\n",
       "      <th>4</th>\n",
       "      <td>nikolskoye</td>\n",
       "      <td>59.70</td>\n",
       "      <td>30.79</td>\n",
       "      <td>42.01</td>\n",
       "      <td>93</td>\n",
       "      <td>75</td>\n",
       "      <td>RU</td>\n",
       "      <td>6.71</td>\n",
       "      <td>1606375345</td>\n",
       "    </tr>\n",
       "    <tr>\n",
       "      <th>5</th>\n",
       "      <td>adrar</td>\n",
       "      <td>20.50</td>\n",
       "      <td>-10.07</td>\n",
       "      <td>59.92</td>\n",
       "      <td>30</td>\n",
       "      <td>18</td>\n",
       "      <td>MR</td>\n",
       "      <td>4.18</td>\n",
       "      <td>1606375345</td>\n",
       "    </tr>\n",
       "  </tbody>\n",
       "</table>\n",
       "</div>"
      ],
      "text/plain": [
       "           City    Lat     Lng  Max Temp  Humidity  Cloudiness Country  \\\n",
       "0  punta arenas   8.99  125.34     83.64        79          11      PH   \n",
       "1         kapaa  22.08 -159.32     75.20        94          75      US   \n",
       "2        muroto  33.28  134.15     66.20        45          75      JP   \n",
       "4    nikolskoye  59.70   30.79     42.01        93          75      RU   \n",
       "5         adrar  20.50  -10.07     59.92        30          18      MR   \n",
       "\n",
       "   Wind Speed        Date  \n",
       "0        6.40  1606375343  \n",
       "1        9.17  1606375344  \n",
       "2        5.82  1606375344  \n",
       "4        6.71  1606375345  \n",
       "5        4.18  1606375345  "
      ]
     },
     "execution_count": 13,
     "metadata": {},
     "output_type": "execute_result"
    }
   ],
   "source": [
    "NH = weather_df.loc[weather_df[\"Lat\"] >= 0]\n",
    "NH.head()"
   ]
  },
  {
   "cell_type": "code",
   "execution_count": 14,
   "metadata": {},
   "outputs": [
    {
     "name": "stdout",
     "output_type": "stream",
     "text": [
      "The r-value is: -0.89\n"
     ]
    },
    {
     "data": {
      "image/png": "[encoded data removed]",
      "text/plain": [
       "<Figure size 432x288 with 1 Axes>"
      ]
     },
     "metadata": {
      "needs_background": "light"
     },
     "output_type": "display_data"
    }
   ],
   "source": [
    "x_axis = NH ['Lat']\n",
    "y_axis = NH ['Max Temp']\n",
    "\n",
    "plt.xlabel(\"Latitude\")\n",
    "plt.ylabel(\"Max Temperature (F)\")\n",
    "\n",
    "correlation = st.pearsonr(x_axis, y_axis)\n",
    "correlation\n",
    "print(f\"The r-value is: {round(correlation[0],2)}\")\n",
    "\n",
    "(slope, intercept, rvalue, pvalue, stderr) = linregress(x_axis, y_axis)\n",
    "regress_values = x_axis * slope + intercept\n",
    "line_eq = \"y = \" + str(round(slope,2)) + \"x + \" + str(round(intercept,2))\n",
    "plt.scatter(x_axis, y_axis)\n",
    "plt.plot(x_axis,regress_values,\"r-\")\n",
    "\n",
    "plt.annotate(line_eq,(0,-20),fontsize=15,color=\"red\")\n",
    "\n",
    "plt.savefig (\"../Images/NHvsLatitude.png\")\n",
    "plt.show()"
   ]
  },
  {
   "cell_type": "markdown",
   "metadata": {},
   "source": [
    "####  Southern Hemisphere - Max Temp vs. Latitude Linear Regression"
   ]
  },
  {
   "cell_type": "code",
   "execution_count": 15,
   "metadata": {},
   "outputs": [
    {
     "data": {
      "text/html": [
       "<div>\n",
       "<style scoped>\n",
       "    .dataframe tbody tr th:only-of-type {\n",
       "        vertical-align: middle;\n",
       "    }\n",
       "\n",
       "    .dataframe tbody tr th {\n",
       "        vertical-align: top;\n",
       "    }\n",
       "\n",
       "    .dataframe thead th {\n",
       "        text-align: right;\n",
       "    }\n",
       "</style>\n",
       "<table border=\"1\" class=\"dataframe\">\n",
       "  <thead>\n",
       "    <tr style=\"text-align: right;\">\n",
       "      <th></th>\n",
       "      <th>City</th>\n",
       "      <th>Lat</th>\n",
       "      <th>Lng</th>\n",
       "      <th>Max Temp</th>\n",
       "      <th>Humidity</th>\n",
       "      <th>Cloudiness</th>\n",
       "      <th>Country</th>\n",
       "      <th>Wind Speed</th>\n",
       "      <th>Date</th>\n",
       "    </tr>\n",
       "  </thead>\n",
       "  <tbody>\n",
       "    <tr>\n",
       "      <th>0</th>\n",
       "      <td>punta arenas</td>\n",
       "      <td>8.99</td>\n",
       "      <td>125.34</td>\n",
       "      <td>83.64</td>\n",
       "      <td>79</td>\n",
       "      <td>11</td>\n",
       "      <td>PH</td>\n",
       "      <td>6.40</td>\n",
       "      <td>1606375343</td>\n",
       "    </tr>\n",
       "    <tr>\n",
       "      <th>1</th>\n",
       "      <td>kapaa</td>\n",
       "      <td>22.08</td>\n",
       "      <td>-159.32</td>\n",
       "      <td>75.20</td>\n",
       "      <td>94</td>\n",
       "      <td>75</td>\n",
       "      <td>US</td>\n",
       "      <td>9.17</td>\n",
       "      <td>1606375344</td>\n",
       "    </tr>\n",
       "    <tr>\n",
       "      <th>2</th>\n",
       "      <td>muroto</td>\n",
       "      <td>33.28</td>\n",
       "      <td>134.15</td>\n",
       "      <td>66.20</td>\n",
       "      <td>45</td>\n",
       "      <td>75</td>\n",
       "      <td>JP</td>\n",
       "      <td>5.82</td>\n",
       "      <td>1606375344</td>\n",
       "    </tr>\n",
       "    <tr>\n",
       "      <th>4</th>\n",
       "      <td>nikolskoye</td>\n",
       "      <td>59.70</td>\n",
       "      <td>30.79</td>\n",
       "      <td>42.01</td>\n",
       "      <td>93</td>\n",
       "      <td>75</td>\n",
       "      <td>RU</td>\n",
       "      <td>6.71</td>\n",
       "      <td>1606375345</td>\n",
       "    </tr>\n",
       "    <tr>\n",
       "      <th>5</th>\n",
       "      <td>adrar</td>\n",
       "      <td>20.50</td>\n",
       "      <td>-10.07</td>\n",
       "      <td>59.92</td>\n",
       "      <td>30</td>\n",
       "      <td>18</td>\n",
       "      <td>MR</td>\n",
       "      <td>4.18</td>\n",
       "      <td>1606375345</td>\n",
       "    </tr>\n",
       "  </tbody>\n",
       "</table>\n",
       "</div>"
      ],
      "text/plain": [
       "           City    Lat     Lng  Max Temp  Humidity  Cloudiness Country  \\\n",
       "0  punta arenas   8.99  125.34     83.64        79          11      PH   \n",
       "1         kapaa  22.08 -159.32     75.20        94          75      US   \n",
       "2        muroto  33.28  134.15     66.20        45          75      JP   \n",
       "4    nikolskoye  59.70   30.79     42.01        93          75      RU   \n",
       "5         adrar  20.50  -10.07     59.92        30          18      MR   \n",
       "\n",
       "   Wind Speed        Date  \n",
       "0        6.40  1606375343  \n",
       "1        9.17  1606375344  \n",
       "2        5.82  1606375344  \n",
       "4        6.71  1606375345  \n",
       "5        4.18  1606375345  "
      ]
     },
     "execution_count": 15,
     "metadata": {},
     "output_type": "execute_result"
    }
   ],
   "source": [
    "SH = weather_df.loc[weather_df[\"Lat\"] >= 0]\n",
    "SH.head()"
   ]
  },
  {
   "cell_type": "code",
   "execution_count": 16,
   "metadata": {},
   "outputs": [
    {
     "name": "stdout",
     "output_type": "stream",
     "text": [
      "The r-value is: -0.89\n"
     ]
    },
    {
     "data": {
      "image/png": "[encoded data removed]",
      "text/plain": [
       "<Figure size 432x288 with 1 Axes>"
      ]
     },
     "metadata": {
      "needs_background": "light"
     },
     "output_type": "display_data"
    }
   ],
   "source": [
    "x_axis = SH ['Lat']\n",
    "y_axis = SH ['Max Temp']\n",
    "\n",
    "plt.xlabel(\"Latitude\")\n",
    "plt.ylabel(\"Max Temperature (F)\")\n",
    "\n",
    "correlation = st.pearsonr(x_axis, y_axis)\n",
    "correlation\n",
    "print(f\"The r-value is: {round(correlation[0],2)}\")\n",
    "\n",
    "(slope, intercept, rvalue, pvalue, stderr) = linregress(x_axis, y_axis)\n",
    "regress_values = x_axis * slope + intercept\n",
    "line_eq = \"y = \" + str(round(slope,2)) + \"x + \" + str(round(intercept,2))\n",
    "plt.scatter(x_axis, y_axis)\n",
    "plt.plot(x_axis,regress_values,\"r-\")\n",
    "\n",
    "plt.annotate(line_eq,(-50,90),fontsize=15,color=\"red\")\n",
    "\n",
    "plt.savefig (\"../Images/SHvsLatitude.png\")\n",
    "plt.show()"
   ]
  },
  {
   "cell_type": "markdown",
   "metadata": {},
   "source": [
    "####  Northern Hemisphere - Humidity (%) vs. Latitude Linear Regression"
   ]
  },
  {
   "cell_type": "code",
   "execution_count": 17,
   "metadata": {},
   "outputs": [
    {
     "name": "stdout",
     "output_type": "stream",
     "text": [
      "The r-value is: 0.46\n"
     ]
    },
    {
     "data": {
      "image/png": "[encoded data removed]",
      "text/plain": [
       "<Figure size 432x288 with 1 Axes>"
      ]
     },
     "metadata": {
      "needs_background": "light"
     },
     "output_type": "display_data"
    }
   ],
   "source": [
    "x_axis = NH ['Lat']\n",
    "y_axis = NH ['Humidity']\n",
    "\n",
    "plt.xlabel(\"Latitude\")\n",
    "plt.ylabel(\"Humidity (%)\")\n",
    "\n",
    "correlation = st.pearsonr(x_axis, y_axis)\n",
    "correlation\n",
    "print(f\"The r-value is: {round(correlation[0],2)}\")\n",
    "\n",
    "(slope, intercept, rvalue, pvalue, stderr) = linregress(x_axis, y_axis)\n",
    "regress_values = x_axis * slope + intercept\n",
    "line_eq = \"y = \" + str(round(slope,2)) + \"x + \" + str(round(intercept,2))\n",
    "plt.scatter(x_axis, y_axis)\n",
    "plt.plot(x_axis,regress_values,\"r-\")\n",
    "plt.annotate(line_eq,(40,20),fontsize=15,color=\"red\")\n",
    "\n",
    "plt.savefig(\"../Images/NH+Latitude+Humidity.png\")\n",
    "plt.show()"
   ]
  },
  {
   "cell_type": "markdown",
   "metadata": {},
   "source": [
    "####  Southern Hemisphere - Humidity (%) vs. Latitude Linear Regression"
   ]
  },
  {
   "cell_type": "code",
   "execution_count": 18,
   "metadata": {},
   "outputs": [
    {
     "name": "stdout",
     "output_type": "stream",
     "text": [
      "The r-value is: 0.46\n"
     ]
    },
    {
     "data": {
      "image/png": "[encoded data removed]",
      "text/plain": [
       "<Figure size 432x288 with 1 Axes>"
      ]
     },
     "metadata": {
      "needs_background": "light"
     },
     "output_type": "display_data"
    }
   ],
   "source": [
    "x_axis = SH ['Lat']\n",
    "y_axis = SH ['Humidity']\n",
    "\n",
    "plt.xlabel(\"Latitude\")\n",
    "plt.ylabel(\"Humidity (%)\")\n",
    "\n",
    "correlation = st.pearsonr(x_axis, y_axis)\n",
    "correlation\n",
    "print(f\"The r-value is: {round(correlation[0],2)}\")\n",
    "\n",
    "\n",
    "(slope, intercept, rvalue, pvalue, stderr) = linregress(x_axis, y_axis)\n",
    "regress_values = x_axis * slope + intercept\n",
    "line_eq = \"y = \" + str(round(slope,2)) + \"x + \" + str(round(intercept,2))\n",
    "plt.scatter(x_axis, y_axis)\n",
    "plt.plot(x_axis,regress_values,\"r-\")\n",
    "\n",
    "plt.annotate(line_eq,(-25,30),fontsize=15,color=\"red\")\n",
    "\n",
    "plt.savefig(\"../Images/SH+Humidity.png\")\n",
    "plt.show()"
   ]
  },
  {
   "cell_type": "markdown",
   "metadata": {},
   "source": [
    "####  Northern Hemisphere - Cloudiness (%) vs. Latitude Linear Regression"
   ]
  },
  {
   "cell_type": "code",
   "execution_count": 19,
   "metadata": {},
   "outputs": [
    {
     "name": "stdout",
     "output_type": "stream",
     "text": [
      "The r-value is: 0.24\n"
     ]
    },
    {
     "data": {
      "image/png": "[encoded data removed]",
      "text/plain": [
       "<Figure size 432x288 with 1 Axes>"
      ]
     },
     "metadata": {
      "needs_background": "light"
     },
     "output_type": "display_data"
    }
   ],
   "source": [
    "x_axis = NH ['Lat']\n",
    "y_axis = NH ['Cloudiness']\n",
    "\n",
    "plt.xlabel(\"Latitude\")\n",
    "plt.ylabel(\"Cloudiness (%)\")\n",
    "\n",
    "correlation = st.pearsonr(x_axis, y_axis)\n",
    "correlation\n",
    "print(f\"The r-value is: {round(correlation[0],2)}\")\n",
    "\n",
    "(slope, intercept, rvalue, pvalue, stderr) = linregress(x_axis, y_axis)\n",
    "regress_values = x_axis * slope + intercept\n",
    "line_eq = \"y = \" + str(round(slope,2)) + \"x + \" + str(round(intercept,2))\n",
    "plt.scatter(x_axis, y_axis)\n",
    "plt.plot(x_axis,regress_values,\"r-\")\n",
    "\n",
    "plt.annotate(line_eq,(40,50),fontsize=15,color=\"red\")\n",
    "\n",
    "plt.savefig(\"../Images/NH+Cloudiness.png\")\n",
    "plt.show()"
   ]
  },
  {
   "cell_type": "markdown",
   "metadata": {},
   "source": [
    "####  Southern Hemisphere - Cloudiness (%) vs. Latitude Linear Regression"
   ]
  },
  {
   "cell_type": "code",
   "execution_count": 20,
   "metadata": {},
   "outputs": [
    {
     "name": "stdout",
     "output_type": "stream",
     "text": [
      "The r-value is: 0.24\n"
     ]
    },
    {
     "data": {
      "image/png": "[encoded data removed]",
      "text/plain": [
       "<Figure size 432x288 with 1 Axes>"
      ]
     },
     "metadata": {
      "needs_background": "light"
     },
     "output_type": "display_data"
    }
   ],
   "source": [
    "x_axis = SH ['Lat']\n",
    "y_axis = SH ['Cloudiness']\n",
    "\n",
    "plt.xlabel(\"Latitude\")\n",
    "plt.ylabel(\"Cloudiness (%) \")\n",
    "\n",
    "correlation = st.pearsonr(x_axis, y_axis)\n",
    "correlation\n",
    "print(f\"The r-value is: {round(correlation[0],2)}\")\n",
    "\n",
    "(slope, intercept, rvalue, pvalue, stderr) = linregress(x_axis, y_axis)\n",
    "regress_values = x_axis * slope + intercept\n",
    "line_eq = \"y = \" + str(round(slope,2)) + \"x + \" + str(round(intercept,2))\n",
    "plt.scatter(x_axis, y_axis)\n",
    "plt.plot(x_axis,regress_values,\"r-\")\n",
    "\n",
    "plt.annotate(line_eq,(-50,60),fontsize=15,color=\"red\")\n",
    "\n",
    "plt.savefig(\"../Images/SH+Cloudiness.png\")\n",
    "plt.show()"
   ]
  },
  {
   "cell_type": "markdown",
   "metadata": {},
   "source": [
    "####  Northern Hemisphere - Wind Speed (mph) vs. Latitude Linear Regression"
   ]
  },
  {
   "cell_type": "code",
   "execution_count": 21,
   "metadata": {},
   "outputs": [
    {
     "name": "stdout",
     "output_type": "stream",
     "text": [
      "The r-value is: 0.09\n"
     ]
    },
    {
     "data": {
      "image/png": "[encoded data removed]",
      "text/plain": [
       "<Figure size 432x288 with 1 Axes>"
      ]
     },
     "metadata": {
      "needs_background": "light"
     },
     "output_type": "display_data"
    }
   ],
   "source": [
    "x_axis = NH ['Lat']\n",
    "y_axis = NH ['Wind Speed']\n",
    "\n",
    "plt.xlabel(\"Latitude\")\n",
    "plt.ylabel(\"Wind Speed (mph)\")\n",
    "\n",
    "correlation = st.pearsonr(x_axis, y_axis)\n",
    "correlation\n",
    "print(f\"The r-value is: {round(correlation[0],2)}\")\n",
    "\n",
    "(slope, intercept, rvalue, pvalue, stderr) = linregress(x_axis, y_axis)\n",
    "regress_values = x_axis * slope + intercept\n",
    "line_eq = \"y = \" + str(round(slope,2)) + \"x + \" + str(round(intercept,2))\n",
    "plt.scatter(x_axis, y_axis)\n",
    "plt.plot(x_axis,regress_values,\"r-\")\n",
    "\n",
    "plt.annotate(line_eq,(10,30),fontsize=15,color=\"red\")\n",
    "\n",
    "plt.savefig(\"../Images/NH+WindSpeed.png\")\n",
    "plt.show()"
   ]
  },
  {
   "cell_type": "markdown",
   "metadata": {},
   "source": [
    "####  Southern Hemisphere - Wind Speed (mph) vs. Latitude Linear Regression"
   ]
  },
  {
   "cell_type": "code",
   "execution_count": 22,
   "metadata": {},
   "outputs": [
    {
     "name": "stdout",
     "output_type": "stream",
     "text": [
      "The r-value is: 0.09\n"
     ]
    },
    {
     "data": {
      "image/png": "[encoded data removed]",
      "text/plain": [
       "<Figure size 432x288 with 1 Axes>"
      ]
     },
     "metadata": {
      "needs_background": "light"
     },
     "output_type": "display_data"
    },
    {
     "data": {
      "text/plain": [
       "<Figure size 432x288 with 0 Axes>"
      ]
     },
     "metadata": {},
     "output_type": "display_data"
    }
   ],
   "source": [
    "x_axis = SH ['Lat']\n",
    "y_axis = SH ['Wind Speed']\n",
    "\n",
    "plt.xlabel(\"Latitude\")\n",
    "plt.ylabel(\"Wind Speed (mph)\")\n",
    "\n",
    "correlation = st.pearsonr(x_axis, y_axis)\n",
    "correlation\n",
    "print(f\"The r-value is: {round(correlation[0],2)}\")\n",
    "\n",
    "(slope, intercept, rvalue, pvalue, stderr) = linregress(x_axis, y_axis)\n",
    "regress_values = x_axis * slope + intercept\n",
    "line_eq = \"y = \" + str(round(slope,2)) + \"x + \" + str(round(intercept,2))\n",
    "plt.scatter(x_axis, y_axis)\n",
    "plt.plot(x_axis,regress_values,\"r-\")\n",
    "\n",
    "plt.annotate(line_eq,(-50,20),fontsize=15,color=\"red\")\n",
    "plt.show()\n",
    "\n",
    "plt.savefig(\"../Images/SH+WindSpeed.png\")\n",
    "plt.show()"
   ]
  },
  {
   "cell_type": "code",
   "execution_count": null,
   "metadata": {},
   "outputs": [],
   "source": []
  }
 ],
 "metadata": {
  "anaconda-cloud": {},
  "kernel_info": {
   "name": "python3"
  },
  "kernelspec": {
   "display_name": "Python [conda env:.conda-PythonData] *",
   "language": "python",
   "name": "conda-env-.conda-PythonData-py"
  },
  "language_info": {
   "codemirror_mode": {
    "name": "ipython",
    "version": 3
   },
   "file_extension": ".py",
   "mimetype": "text/x-python",
   "name": "python",
   "nbconvert_exporter": "python",
   "pygments_lexer": "ipython3",
   "version": "3.6.12"
  },
  "latex_envs": {
   "LaTeX_envs_menu_present": true,
   "autoclose": false,
   "autocomplete": true,
   "bibliofile": "biblio.bib",
   "cite_by": "apalike",
   "current_citInitial": 1,
   "eqLabelWithNumbers": true,
   "eqNumInitial": 1,
   "hotkeys": {
    "equation": "Ctrl-E",
    "itemize": "Ctrl-I"
   },
   "labels_anchors": false,
   "latex_user_defs": false,
   "report_style_numbering": false,
   "user_envs_cfg": false
  },
  "nteract": {
   "version": "0.12.3"
  }
 },
 "nbformat": 4,
 "nbformat_minor": 2
}
